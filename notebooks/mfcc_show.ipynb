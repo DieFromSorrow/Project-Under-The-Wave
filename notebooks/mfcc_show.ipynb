{
 "cells": [
  {
   "cell_type": "code",
   "execution_count": 2,
   "metadata": {
    "collapsed": true,
    "ExecuteTime": {
     "end_time": "2023-07-14T06:50:10.825601Z",
     "start_time": "2023-07-14T06:49:58.650205Z"
    }
   },
   "outputs": [],
   "source": [
    "from utils import show_tensor_image\n",
    "from datasets import MfccDateset\n",
    "\n",
    "mfcc_dataset = MfccDateset(csv_file_path='../data/v1/test.csv')\n",
    "mfcc_tensor, label = mfcc_dataset[5]\n",
    "show_tensor_image(mfcc_tensor)\n"
   ]
  },
  {
   "cell_type": "code",
   "execution_count": null,
   "outputs": [],
   "source": [],
   "metadata": {
    "collapsed": false
   }
  }
 ],
 "metadata": {
  "kernelspec": {
   "display_name": "Python 3",
   "language": "python",
   "name": "python3"
  },
  "language_info": {
   "codemirror_mode": {
    "name": "ipython",
    "version": 2
   },
   "file_extension": ".py",
   "mimetype": "text/x-python",
   "name": "python",
   "nbconvert_exporter": "python",
   "pygments_lexer": "ipython2",
   "version": "2.7.6"
  }
 },
 "nbformat": 4,
 "nbformat_minor": 0
}
