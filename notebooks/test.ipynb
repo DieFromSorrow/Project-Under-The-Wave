{
 "cells": [
  {
   "cell_type": "code",
   "execution_count": 1,
   "metadata": {
    "collapsed": true,
    "ExecuteTime": {
     "start_time": "2023-06-30T11:28:21.225448Z",
     "end_time": "2023-06-30T11:28:21.235510Z"
    }
   },
   "outputs": [],
   "source": [
    "import csv\n",
    "\n",
    "def get_column(csv_file, column_name):\n",
    "    with open(csv_file, 'r') as file:\n",
    "        reader = csv.DictReader(file)\n",
    "        if column_name in reader.fieldnames:\n",
    "            column_data = [row[column_name] for row in reader]\n",
    "            return column_data\n",
    "        else:\n",
    "            return None"
   ]
  },
  {
   "cell_type": "code",
   "execution_count": 2,
   "outputs": [],
   "source": [
    "csv_file_path = '../data/v1/track_lists.csv'\n",
    "column_name = 'Deep_House'"
   ],
   "metadata": {
    "collapsed": false,
    "ExecuteTime": {
     "start_time": "2023-06-30T11:31:18.343104Z",
     "end_time": "2023-06-30T11:31:18.361163Z"
    }
   }
  },
  {
   "cell_type": "code",
   "execution_count": 3,
   "outputs": [
    {
     "name": "stdout",
     "output_type": "stream",
     "text": [
      "['2311859341', '533211242', '', '', '']\n"
     ]
    }
   ],
   "source": [
    "column_vals = get_column(csv_file_path, column_name)\n",
    "print(column_vals)"
   ],
   "metadata": {
    "collapsed": false,
    "ExecuteTime": {
     "start_time": "2023-06-30T11:32:01.496210Z",
     "end_time": "2023-06-30T11:32:01.512294Z"
    }
   }
  },
  {
   "cell_type": "code",
   "execution_count": 4,
   "outputs": [],
   "source": [
    "column_name = 'Tropical_House'\n",
    "column_vals = get_column(csv_file_path, column_name)"
   ],
   "metadata": {
    "collapsed": false,
    "ExecuteTime": {
     "start_time": "2023-06-30T11:33:10.921109Z",
     "end_time": "2023-06-30T11:33:10.925453Z"
    }
   }
  },
  {
   "cell_type": "code",
   "execution_count": 5,
   "outputs": [
    {
     "name": "stdout",
     "output_type": "stream",
     "text": [
      "['3050326795', '6797139799', '740681814', '888497009', '165974833']\n"
     ]
    }
   ],
   "source": [
    "print(column_vals)"
   ],
   "metadata": {
    "collapsed": false,
    "ExecuteTime": {
     "start_time": "2023-06-30T11:33:20.781121Z",
     "end_time": "2023-06-30T11:33:20.784146Z"
    }
   }
  },
  {
   "cell_type": "code",
   "execution_count": 15,
   "outputs": [
    {
     "name": "stdout",
     "output_type": "stream",
     "text": [
      "AudioMetaData(sample_rate=44100, num_frames=23987026, num_channels=2, bits_per_sample=0, encoding=UNKNOWN)\n",
      "44100\n",
      "torch.Size([23987026])\n"
     ]
    }
   ],
   "source": [
    "from utils.crawler import TrackCrawler\n",
    "import torchaudio\n",
    "import torch\n",
    "import io\n",
    "\n",
    "mp3_data = TrackCrawler.crawl_track(518895456)  # br=128000\n",
    "waveform, sample_date = torchaudio.load(io.BytesIO(mp3_data), format='mp3')\n",
    "waveform_mono = torch.mean(waveform, dim=0)\n",
    "info = torchaudio.info(io.BytesIO(mp3_data))\n",
    "print(info)\n",
    "print(sample_date)\n",
    "print(waveform_mono.shape)"
   ],
   "metadata": {
    "collapsed": false,
    "ExecuteTime": {
     "end_time": "2023-07-01T10:52:25.702724800Z",
     "start_time": "2023-07-01T10:52:22.926873Z"
    }
   }
  },
  {
   "cell_type": "code",
   "execution_count": null,
   "outputs": [],
   "source": [],
   "metadata": {
    "collapsed": false
   }
  }
 ],
 "metadata": {
  "kernelspec": {
   "display_name": "Python 3",
   "language": "python",
   "name": "python3"
  },
  "language_info": {
   "codemirror_mode": {
    "name": "ipython",
    "version": 2
   },
   "file_extension": ".py",
   "mimetype": "text/x-python",
   "name": "python",
   "nbconvert_exporter": "python",
   "pygments_lexer": "ipython2",
   "version": "2.7.6"
  }
 },
 "nbformat": 4,
 "nbformat_minor": 0
}
