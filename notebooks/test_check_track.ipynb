{
 "cells": [
  {
   "cell_type": "code",
   "execution_count": 1,
   "metadata": {
    "collapsed": true,
    "ExecuteTime": {
     "end_time": "2023-07-04T10:54:11.596901900Z",
     "start_time": "2023-07-04T10:54:10.212977800Z"
    }
   },
   "outputs": [
    {
     "name": "stdout",
     "output_type": "stream",
     "text": [
      "False\n",
      "{'songs': [{'name': 'Miss You', 'id': 1494700254, 'pst': 0, 't': 0, 'ar': [{'id': 962293, 'name': 'Tungevaag', 'tns': [], 'alias': []}, {'id': 379612, 'name': 'Sick Individuals', 'tns': [], 'alias': []}, {'id': 13459963, 'name': 'MARF', 'tns': [], 'alias': []}], 'alia': [], 'pop': 50, 'st': 0, 'rt': '', 'fee': 1, 'v': 14, 'crbt': None, 'cf': '', 'al': {'id': 98199879, 'name': 'Miss You', 'picUrl': 'https://p2.music.126.net/y1S0kxiIRr25VsotIkkL-A==/109951165462832243.jpg', 'tns': [], 'pic_str': '109951165462832243', 'pic': 109951165462832240}, 'dt': 160800, 'h': {'br': 320000, 'fid': 0, 'size': 6434525, 'vd': -77067, 'sr': 44100}, 'm': {'br': 192000, 'fid': 0, 'size': 3860733, 'vd': -74562, 'sr': 44100}, 'l': {'br': 128000, 'fid': 0, 'size': 2573836, 'vd': -73087, 'sr': 44100}, 'sq': {'br': 1071670, 'fid': 0, 'size': 21540582, 'vd': -77115, 'sr': 44100}, 'hr': None, 'a': None, 'cd': '01', 'no': 1, 'rtUrl': None, 'ftype': 0, 'rtUrls': [], 'djId': 0, 'copyright': 1, 's_id': 0, 'mark': 270336, 'originCoverType': 0, 'originSongSimpleData': None, 'tagPicList': None, 'resourceState': True, 'version': 14, 'songJumpInfo': None, 'entertainmentTags': None, 'awardTags': None, 'single': 0, 'noCopyrightRcmd': None, 'mst': 9, 'cp': 1419024, 'rtype': 0, 'rurl': None, 'mv': 10971429, 'publishTime': 1605196800000}], 'privileges': [{'id': 1494700254, 'fee': 1, 'payed': 0, 'st': 0, 'pl': 0, 'dl': 0, 'sp': 0, 'cp': 0, 'subp': 1, 'cs': False, 'maxbr': 999000, 'fl': 0, 'toast': False, 'flag': 260, 'preSell': False, 'playMaxbr': 999000, 'downloadMaxbr': 999000, 'maxBrLevel': 'lossless', 'playMaxBrLevel': 'lossless', 'downloadMaxBrLevel': 'lossless', 'plLevel': 'none', 'dlLevel': 'none', 'flLevel': 'none', 'rscl': None, 'freeTrialPrivilege': {'resConsumable': True, 'userConsumable': False, 'listenType': None}, 'chargeInfoList': [{'rate': 128000, 'chargeUrl': None, 'chargeMessage': None, 'chargeType': 1}, {'rate': 192000, 'chargeUrl': None, 'chargeMessage': None, 'chargeType': 1}, {'rate': 320000, 'chargeUrl': None, 'chargeMessage': None, 'chargeType': 1}, {'rate': 999000, 'chargeUrl': None, 'chargeMessage': None, 'chargeType': 1}]}], 'code': 200}\n",
      "1\n",
      "False\n"
     ]
    }
   ],
   "source": [
    "from utils import TrackCrawler\n",
    "\n",
    "print(TrackCrawler.is_track_available(1494700254))\n",
    "# TrackCrawler.down_load_track(1494700254, saving_path='../data/.mp3/')\n",
    "print(TrackCrawler.is_not_vip_track(1494700254))"
   ]
  },
  {
   "cell_type": "code",
   "execution_count": null,
   "outputs": [],
   "source": [],
   "metadata": {
    "collapsed": false
   }
  }
 ],
 "metadata": {
  "kernelspec": {
   "display_name": "Python 3",
   "language": "python",
   "name": "python3"
  },
  "language_info": {
   "codemirror_mode": {
    "name": "ipython",
    "version": 2
   },
   "file_extension": ".py",
   "mimetype": "text/x-python",
   "name": "python",
   "nbconvert_exporter": "python",
   "pygments_lexer": "ipython2",
   "version": "2.7.6"
  }
 },
 "nbformat": 4,
 "nbformat_minor": 0
}
