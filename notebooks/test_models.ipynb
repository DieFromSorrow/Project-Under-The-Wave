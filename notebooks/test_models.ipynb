{
 "cells": [
  {
   "cell_type": "code",
   "execution_count": 1,
   "metadata": {
    "collapsed": true,
    "ExecuteTime": {
     "end_time": "2023-07-03T07:22:04.077296800Z",
     "start_time": "2023-07-03T07:22:02.629296300Z"
    }
   },
   "outputs": [],
   "source": [
    "import torchaudio\n",
    "import torch\n",
    "import io\n",
    "from models import ResNetMusicClassifier4Test\n",
    "from utils import TrackCrawler"
   ]
  },
  {
   "cell_type": "code",
   "execution_count": 2,
   "outputs": [
    {
     "name": "stderr",
     "output_type": "stream",
     "text": [
      "IOPub data rate exceeded.\n",
      "The notebook server will temporarily stop sending output\n",
      "to the client in order to avoid crashing it.\n",
      "To change this limit, set the config variable\n",
      "`--NotebookApp.iopub_data_rate_limit`.\n",
      "\n",
      "Current values:\n",
      "NotebookApp.iopub_data_rate_limit=1000000.0 (bytes/sec)\n",
      "NotebookApp.rate_limit_window=3.0 (secs)\n",
      "\n"
     ]
    },
    {
     "ename": "TypeError",
     "evalue": "empty() received an invalid combination of arguments - got (tuple, dtype=NoneType, device=NoneType), but expected one of:\n * (tuple of ints size, *, tuple of names names, torch.memory_format memory_format, torch.dtype dtype, torch.layout layout, torch.device device, bool pin_memory, bool requires_grad)\n * (tuple of ints size, *, torch.memory_format memory_format, Tensor out, torch.dtype dtype, torch.layout layout, torch.device device, bool pin_memory, bool requires_grad)\n",
     "output_type": "error",
     "traceback": [
      "\u001B[1;31m---------------------------------------------------------------------------\u001B[0m",
      "\u001B[1;31mTypeError\u001B[0m                                 Traceback (most recent call last)",
      "Cell \u001B[1;32mIn[2], line 5\u001B[0m\n\u001B[0;32m      3\u001B[0m waveform_mono \u001B[38;5;241m=\u001B[39m torch\u001B[38;5;241m.\u001B[39mmean(waveform, dim\u001B[38;5;241m=\u001B[39m\u001B[38;5;241m0\u001B[39m)\n\u001B[0;32m      4\u001B[0m model \u001B[38;5;241m=\u001B[39m ResNetMusicClassifier4Test(num_classes\u001B[38;5;241m=\u001B[39m\u001B[38;5;241m2\u001B[39m)\n\u001B[1;32m----> 5\u001B[0m output, o_list \u001B[38;5;241m=\u001B[39m \u001B[43mResNetMusicClassifier4Test\u001B[49m\u001B[43m(\u001B[49m\u001B[43mwaveform_mono\u001B[49m\u001B[43m)\u001B[49m\n\u001B[0;32m      6\u001B[0m \u001B[38;5;28;01mfor\u001B[39;00m o \u001B[38;5;129;01min\u001B[39;00m o_list:\n\u001B[0;32m      7\u001B[0m     \u001B[38;5;28mprint\u001B[39m(o\u001B[38;5;241m.\u001B[39mshape)\n",
      "File \u001B[1;32mF:\\Projects\\Project-Under-The-Wave\\models\\res_net_v1.py:101\u001B[0m, in \u001B[0;36mResNetMusicClassifier4Test.__init__\u001B[1;34m(self, *args, **kwargs)\u001B[0m\n\u001B[0;32m    100\u001B[0m \u001B[38;5;28;01mdef\u001B[39;00m \u001B[38;5;21m__init__\u001B[39m(\u001B[38;5;28mself\u001B[39m, \u001B[38;5;241m*\u001B[39margs, \u001B[38;5;241m*\u001B[39m\u001B[38;5;241m*\u001B[39mkwargs):\n\u001B[1;32m--> 101\u001B[0m     \u001B[38;5;28msuper\u001B[39m(ResNetMusicClassifier4Test, \u001B[38;5;28mself\u001B[39m)\u001B[38;5;241m.\u001B[39m\u001B[38;5;21m__init__\u001B[39m(\u001B[38;5;241m*\u001B[39margs, \u001B[38;5;241m*\u001B[39m\u001B[38;5;241m*\u001B[39mkwargs)\n\u001B[0;32m    102\u001B[0m     \u001B[38;5;28mself\u001B[39m\u001B[38;5;241m.\u001B[39moutput_list \u001B[38;5;241m=\u001B[39m []\n\u001B[0;32m    103\u001B[0m     \u001B[38;5;28;01mpass\u001B[39;00m\n",
      "File \u001B[1;32mF:\\Projects\\Project-Under-The-Wave\\models\\res_net_v1.py:76\u001B[0m, in \u001B[0;36mResNetMusicClassifier.__init__\u001B[1;34m(self, num_classes)\u001B[0m\n\u001B[0;32m     70\u001B[0m \u001B[38;5;28mself\u001B[39m\u001B[38;5;241m.\u001B[39mres_layer4 \u001B[38;5;241m=\u001B[39m ResNetMusicClassifier\u001B[38;5;241m.\u001B[39mbuild_layer(\n\u001B[0;32m     71\u001B[0m     ResidualBlock1d, in_channels\u001B[38;5;241m=\u001B[39m\u001B[38;5;241m256\u001B[39m, out_channels\u001B[38;5;241m=\u001B[39m\u001B[38;5;241m512\u001B[39m, num_blocks\u001B[38;5;241m=\u001B[39m\u001B[38;5;241m2\u001B[39m, stride\u001B[38;5;241m=\u001B[39m\u001B[38;5;241m2\u001B[39m\n\u001B[0;32m     72\u001B[0m )\n\u001B[0;32m     74\u001B[0m \u001B[38;5;28mself\u001B[39m\u001B[38;5;241m.\u001B[39mgru \u001B[38;5;241m=\u001B[39m MyGRU(input_size\u001B[38;5;241m=\u001B[39m\u001B[38;5;241m512\u001B[39m, hidden_size\u001B[38;5;241m=\u001B[39m\u001B[38;5;241m256\u001B[39m, num_layers\u001B[38;5;241m=\u001B[39m\u001B[38;5;241m2\u001B[39m, batch_first\u001B[38;5;241m=\u001B[39m\u001B[38;5;28;01mTrue\u001B[39;00m)\n\u001B[1;32m---> 76\u001B[0m \u001B[38;5;28mself\u001B[39m\u001B[38;5;241m.\u001B[39mfc \u001B[38;5;241m=\u001B[39m \u001B[43mnn\u001B[49m\u001B[38;5;241;43m.\u001B[39;49m\u001B[43mLinear\u001B[49m\u001B[43m(\u001B[49m\u001B[43min_features\u001B[49m\u001B[38;5;241;43m=\u001B[39;49m\u001B[38;5;241;43m256\u001B[39;49m\u001B[43m,\u001B[49m\u001B[43m \u001B[49m\u001B[43mout_features\u001B[49m\u001B[38;5;241;43m=\u001B[39;49m\u001B[38;5;28;43mself\u001B[39;49m\u001B[38;5;241;43m.\u001B[39;49m\u001B[43mnum_classes\u001B[49m\u001B[43m)\u001B[49m\n\u001B[0;32m     77\u001B[0m \u001B[38;5;28;01mpass\u001B[39;00m\n",
      "File \u001B[1;32mD:\\Conda\\miniconda3\\envs\\pytorch\\lib\\site-packages\\torch\\nn\\modules\\linear.py:96\u001B[0m, in \u001B[0;36mLinear.__init__\u001B[1;34m(self, in_features, out_features, bias, device, dtype)\u001B[0m\n\u001B[0;32m     94\u001B[0m \u001B[38;5;28mself\u001B[39m\u001B[38;5;241m.\u001B[39min_features \u001B[38;5;241m=\u001B[39m in_features\n\u001B[0;32m     95\u001B[0m \u001B[38;5;28mself\u001B[39m\u001B[38;5;241m.\u001B[39mout_features \u001B[38;5;241m=\u001B[39m out_features\n\u001B[1;32m---> 96\u001B[0m \u001B[38;5;28mself\u001B[39m\u001B[38;5;241m.\u001B[39mweight \u001B[38;5;241m=\u001B[39m Parameter(torch\u001B[38;5;241m.\u001B[39mempty((out_features, in_features), \u001B[38;5;241m*\u001B[39m\u001B[38;5;241m*\u001B[39mfactory_kwargs))\n\u001B[0;32m     97\u001B[0m \u001B[38;5;28;01mif\u001B[39;00m bias:\n\u001B[0;32m     98\u001B[0m     \u001B[38;5;28mself\u001B[39m\u001B[38;5;241m.\u001B[39mbias \u001B[38;5;241m=\u001B[39m Parameter(torch\u001B[38;5;241m.\u001B[39mempty(out_features, \u001B[38;5;241m*\u001B[39m\u001B[38;5;241m*\u001B[39mfactory_kwargs))\n",
      "\u001B[1;31mTypeError\u001B[0m: empty() received an invalid combination of arguments - got (tuple, dtype=NoneType, device=NoneType), but expected one of:\n * (tuple of ints size, *, tuple of names names, torch.memory_format memory_format, torch.dtype dtype, torch.layout layout, torch.device device, bool pin_memory, bool requires_grad)\n * (tuple of ints size, *, torch.memory_format memory_format, Tensor out, torch.dtype dtype, torch.layout layout, torch.device device, bool pin_memory, bool requires_grad)\n"
     ]
    }
   ],
   "source": [
    "mp3_data = TrackCrawler.crawl_track(518895456)  # br=128000\n",
    "waveform, sample_date = torchaudio.load(io.BytesIO(mp3_data), format='mp3')\n",
    "waveform_mono = torch.mean(waveform, dim=0)\n",
    "model = ResNetMusicClassifier4Test(num_classes=2)\n",
    "output, o_list = ResNetMusicClassifier4Test(waveform_mono)\n",
    "for o in o_list:\n",
    "    print(o.shape)"
   ],
   "metadata": {
    "collapsed": false,
    "ExecuteTime": {
     "end_time": "2023-07-03T07:22:10.678595500Z",
     "start_time": "2023-07-03T07:22:08.140541500Z"
    }
   }
  },
  {
   "cell_type": "code",
   "execution_count": null,
   "outputs": [],
   "source": [],
   "metadata": {
    "collapsed": false
   }
  }
 ],
 "metadata": {
  "kernelspec": {
   "display_name": "Python 3",
   "language": "python",
   "name": "python3"
  },
  "language_info": {
   "codemirror_mode": {
    "name": "ipython",
    "version": 2
   },
   "file_extension": ".py",
   "mimetype": "text/x-python",
   "name": "python",
   "nbconvert_exporter": "python",
   "pygments_lexer": "ipython2",
   "version": "2.7.6"
  }
 },
 "nbformat": 4,
 "nbformat_minor": 0
}
