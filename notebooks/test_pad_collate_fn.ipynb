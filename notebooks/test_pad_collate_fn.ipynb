{
 "cells": [
  {
   "cell_type": "markdown",
   "source": [],
   "metadata": {
    "collapsed": false
   }
  },
  {
   "cell_type": "code",
   "execution_count": 1,
   "outputs": [
    {
     "name": "stdout",
     "output_type": "stream",
     "text": [
      "tensor([[[0.1000, 0.0000, 0.0000]],\n",
      "\n",
      "        [[0.1000, 0.2000, 0.0000]],\n",
      "\n",
      "        [[0.1000, 0.2000, 0.3000]]])\n",
      "torch.Size([3, 1, 3])\n",
      "tensor([0., 1., 2.])\n",
      "torch.Size([3])\n"
     ]
    }
   ],
   "source": [
    "from utils.collate_fn import wave_pad_collate_fn\n",
    "import torch\n",
    "\n",
    "batch = [(torch.Tensor([0.1]), torch.Tensor([0])),\n",
    "         (torch.Tensor([0.1, 0.2]), torch.Tensor([1])),\n",
    "         (torch.Tensor([0.1, 0.2, 0.3]), torch.Tensor([2]))]\n",
    "\n",
    "inputs, labels = wave_pad_collate_fn(batch)\n",
    "\n",
    "print(inputs)\n",
    "print(inputs.shape)\n",
    "print(labels)\n",
    "print(labels.shape)"
   ],
   "metadata": {
    "collapsed": false,
    "ExecuteTime": {
     "end_time": "2023-07-03T13:52:34.033126700Z",
     "start_time": "2023-07-03T13:52:32.636029600Z"
    }
   }
  },
  {
   "cell_type": "code",
   "execution_count": null,
   "outputs": [],
   "source": [],
   "metadata": {
    "collapsed": false
   }
  },
  {
   "cell_type": "code",
   "execution_count": null,
   "outputs": [],
   "source": [],
   "metadata": {
    "collapsed": false
   }
  },
  {
   "cell_type": "markdown",
   "source": [],
   "metadata": {
    "collapsed": false
   }
  },
  {
   "cell_type": "code",
   "execution_count": null,
   "outputs": [],
   "source": [],
   "metadata": {
    "collapsed": false
   }
  }
 ],
 "metadata": {
  "kernelspec": {
   "display_name": "Python 3",
   "language": "python",
   "name": "python3"
  },
  "language_info": {
   "codemirror_mode": {
    "name": "ipython",
    "version": 2
   },
   "file_extension": ".py",
   "mimetype": "text/x-python",
   "name": "python",
   "nbconvert_exporter": "python",
   "pygments_lexer": "ipython2",
   "version": "2.7.6"
  }
 },
 "nbformat": 4,
 "nbformat_minor": 0
}
